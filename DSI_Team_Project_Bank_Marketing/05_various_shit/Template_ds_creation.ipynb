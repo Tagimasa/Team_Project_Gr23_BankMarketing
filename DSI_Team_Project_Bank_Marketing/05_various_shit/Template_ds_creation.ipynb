{
 "cells": [
  {
   "cell_type": "code",
   "execution_count": null,
   "metadata": {},
   "outputs": [
    {
     "name": "stdout",
     "output_type": "stream",
     "text": [
      "New dataset saved at: ../03_Final_Soft_for_Client\\Template_Dataset_for_y_prediction.csv\n"
     ]
    }
   ],
   "source": [
    "import pandas as pd\n",
    "import os\n",
    "\n",
    "file_path = '../01_Data/04_Cleaned_Data/Cleaned_Data.csv'\n",
    "df = pd.read_csv(file_path, sep=',')\n",
    "\n",
    "# Select rand 20% rows\n",
    "df_sampled = df.sample(frac=0.2, random_state=42)\n",
    "\n",
    "# Clean y column \n",
    "df_sampled['y'] = None\n",
    "\n",
    "# output folder \n",
    "output_folder = '../03_Final_Soft_for_Client'\n",
    "os.makedirs(output_folder, exist_ok=True)\n",
    "\n",
    "# Save new ds to the folder\n",
    "output_path = os.path.join(output_folder, 'Template_Dataset_for_y_prediction.csv')\n",
    "df_sampled.to_csv(output_path, sep=';', index=False)\n",
    "\n",
    "# Show the path to the new ds\n",
    "print(f\"New dataset saved at: {output_path}\")"
   ]
  },
  {
   "cell_type": "code",
   "execution_count": null,
   "metadata": {},
   "outputs": [],
   "source": []
  }
 ],
 "metadata": {
  "kernelspec": {
   "display_name": "dsi_participant",
   "language": "python",
   "name": "python3"
  },
  "language_info": {
   "codemirror_mode": {
    "name": "ipython",
    "version": 3
   },
   "file_extension": ".py",
   "mimetype": "text/x-python",
   "name": "python",
   "nbconvert_exporter": "python",
   "pygments_lexer": "ipython3",
   "version": "3.9.19"
  }
 },
 "nbformat": 4,
 "nbformat_minor": 2
}
